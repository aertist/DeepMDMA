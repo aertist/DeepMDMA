{
  "nbformat": 4,
  "nbformat_minor": 0,
  "metadata": {
    "colab": {
      "name": "DeepMDMA.ipynb",
      "provenance": [],
      "collapsed_sections": [],
      "toc_visible": true,
      "authorship_tag": "ABX9TyNo53dE+xQku8vF2U6Otar7",
      "include_colab_link": true
    },
    "kernelspec": {
      "name": "python3",
      "display_name": "Python 3"
    },
    "accelerator": "GPU"
  },
  "cells": [
    {
      "cell_type": "markdown",
      "metadata": {
        "id": "view-in-github",
        "colab_type": "text"
      },
      "source": [
        "<a href=\"https://colab.research.google.com/github/aertist/DeepMDMA/blob/master/DeepMDMA.ipynb\" target=\"_parent\"><img src=\"https://colab.research.google.com/assets/colab-badge.svg\" alt=\"Open In Colab\"/></a>"
      ]
    },
    {
      "cell_type": "markdown",
      "metadata": {
        "id": "-w-HYpWHbjyk"
      },
      "source": [
        "#**Clone Repo**"
      ]
    },
    {
      "cell_type": "code",
      "metadata": {
        "id": "9xljW7-J3DHP"
      },
      "source": [
        "!git clone https://github.com/thoppe/DeepMDMA.git -q"
      ],
      "execution_count": null,
      "outputs": []
    },
    {
      "cell_type": "code",
      "metadata": {
        "id": "j--GjW7E3erN"
      },
      "source": [
        "cd /content/DeepMDMA"
      ],
      "execution_count": null,
      "outputs": []
    },
    {
      "cell_type": "code",
      "metadata": {
        "id": "GgNslsHy3izx"
      },
      "source": [
        "!pip install -r requirements.txt "
      ],
      "execution_count": null,
      "outputs": []
    },
    {
      "cell_type": "markdown",
      "metadata": {
        "id": "O3z3T1j3HIh_"
      },
      "source": [
        "**Installing scipy==1.2.0** (as newer versions are not supported)\r\n",
        "\r\n"
      ]
    },
    {
      "cell_type": "code",
      "metadata": {
        "id": "PhiYXJFN4D5c"
      },
      "source": [
        "!pip install scipy==1.2.0 "
      ],
      "execution_count": null,
      "outputs": []
    },
    {
      "cell_type": "markdown",
      "metadata": {
        "id": "URhUdbkqHYiB"
      },
      "source": [
        "#**This is where errors begins**"
      ]
    },
    {
      "cell_type": "markdown",
      "metadata": {
        "id": "0kp7XSk9HjY7"
      },
      "source": [
        "**Trying with differnet versions of TF**"
      ]
    },
    {
      "cell_type": "code",
      "metadata": {
        "id": "vmpBe87h_Nr1"
      },
      "source": [
        "!pip uninstall -y tensorflow\r\n",
        "!pip install tensorflow-gpu==1.14.0"
      ],
      "execution_count": null,
      "outputs": []
    },
    {
      "cell_type": "code",
      "metadata": {
        "id": "0oEhVRlDFQWM"
      },
      "source": [
        "!pip uninstall -y tensorflow\r\n",
        "!pip install tensorflow-gpu==2.0"
      ],
      "execution_count": null,
      "outputs": []
    },
    {
      "cell_type": "markdown",
      "metadata": {
        "id": "vEjCtEtyHtwT"
      },
      "source": [
        "**Switches to select either TF1.x or TF2.x**"
      ]
    },
    {
      "cell_type": "code",
      "metadata": {
        "id": "jseB8PYo4NrX"
      },
      "source": [
        "%tensorflow_version 1.x"
      ],
      "execution_count": null,
      "outputs": []
    },
    {
      "cell_type": "code",
      "metadata": {
        "id": "RB9WzYyOAfD_"
      },
      "source": [
        "%tensorflow_version 2.x"
      ],
      "execution_count": null,
      "outputs": []
    },
    {
      "cell_type": "markdown",
      "metadata": {
        "id": "zZgZTUglHogn"
      },
      "source": [
        "#**Running the main script**"
      ]
    },
    {
      "cell_type": "code",
      "metadata": {
        "id": "5mcj5TRD3p6w"
      },
      "source": [
        "!python render_activations.py mixed4a_3x3_pre_relu 25"
      ],
      "execution_count": null,
      "outputs": []
    }
  ]
}