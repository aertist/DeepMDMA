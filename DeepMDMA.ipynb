{
  "nbformat": 4,
  "nbformat_minor": 0,
  "metadata": {
    "colab": {
      "name": "DeepMDMA.ipynb",
      "provenance": [],
      "collapsed_sections": [],
      "toc_visible": true,
      "include_colab_link": true
    },
    "kernelspec": {
      "name": "python3",
      "display_name": "Python 3"
    },
    "accelerator": "GPU"
  },
  "cells": [
    {
      "cell_type": "markdown",
      "metadata": {
        "id": "view-in-github",
        "colab_type": "text"
      },
      "source": [
        "<a href=\"https://colab.research.google.com/github/aertist/DeepMDMA/blob/master/DeepMDMA.ipynb\" target=\"_parent\"><img src=\"https://colab.research.google.com/assets/colab-badge.svg\" alt=\"Open In Colab\"/></a>"
      ]
    },
    {
      "cell_type": "markdown",
      "metadata": {
        "id": "-w-HYpWHbjyk"
      },
      "source": [
        "#**Clone Repo**"
      ]
    },
    {
      "cell_type": "code",
      "metadata": {
        "id": "9xljW7-J3DHP"
      },
      "source": [
        "!git clone https://github.com/thoppe/DeepMDMA.git -q"
      ],
      "execution_count": 1,
      "outputs": []
    },
    {
      "cell_type": "code",
      "metadata": {
        "id": "j--GjW7E3erN",
        "outputId": "aadd19f3-d5a9-44b0-cd26-ee7ea4fbf4f8",
        "colab": {
          "base_uri": "https://localhost:8080/"
        }
      },
      "source": [
        "cd /content/DeepMDMA"
      ],
      "execution_count": 1,
      "outputs": [
        {
          "output_type": "stream",
          "text": [
            "/content/DeepMDMA\n"
          ],
          "name": "stdout"
        }
      ]
    },
    {
      "cell_type": "code",
      "metadata": {
        "id": "GgNslsHy3izx"
      },
      "source": [
        "!pip install -r requirements.txt "
      ],
      "execution_count": null,
      "outputs": []
    },
    {
      "cell_type": "markdown",
      "metadata": {
        "id": "O3z3T1j3HIh_"
      },
      "source": [
        "**Installing scipy==1.2.0** (as newer versions are not supported)\r\n",
        "\r\n"
      ]
    },
    {
      "cell_type": "code",
      "metadata": {
        "id": "PhiYXJFN4D5c"
      },
      "source": [
        "!pip install scipy==1.2.0 "
      ],
      "execution_count": null,
      "outputs": []
    },
    {
      "cell_type": "markdown",
      "metadata": {
        "id": "URhUdbkqHYiB"
      },
      "source": [
        "#**This is where errors begins**"
      ]
    },
    {
      "cell_type": "markdown",
      "metadata": {
        "id": "0kp7XSk9HjY7"
      },
      "source": [
        "**Trying with differnet versions of TF**"
      ]
    },
    {
      "cell_type": "code",
      "metadata": {
        "id": "vmpBe87h_Nr1"
      },
      "source": [
        "!pip uninstall -y tensorflow\r\n",
        "!pip install tensorflow-gpu==1.14.0"
      ],
      "execution_count": null,
      "outputs": []
    },
    {
      "cell_type": "code",
      "metadata": {
        "id": "0oEhVRlDFQWM"
      },
      "source": [
        "!pip uninstall -y tensorflow\r\n",
        "!pip install tensorflow-gpu==2.0"
      ],
      "execution_count": null,
      "outputs": []
    },
    {
      "cell_type": "markdown",
      "metadata": {
        "id": "vEjCtEtyHtwT"
      },
      "source": [
        "**Switches to select either TF1.x or TF2.x**"
      ]
    },
    {
      "cell_type": "code",
      "metadata": {
        "id": "jseB8PYo4NrX"
      },
      "source": [
        "%tensorflow_version 1.x"
      ],
      "execution_count": null,
      "outputs": []
    },
    {
      "cell_type": "code",
      "metadata": {
        "id": "RB9WzYyOAfD_"
      },
      "source": [
        "%tensorflow_version 2.x"
      ],
      "execution_count": null,
      "outputs": []
    },
    {
      "cell_type": "markdown",
      "metadata": {
        "id": "zZgZTUglHogn"
      },
      "source": [
        "#**Running the main script**"
      ]
    },
    {
      "cell_type": "code",
      "metadata": {
        "id": "5mcj5TRD3p6w"
      },
      "source": [
        "!python render_activations.py \\\r\n",
        "        mixed4a_3x3_pre_relu 25 \\\r\n",
        "        --n_training 500 \\\r\n",
        "        --output_image_size 1920 \\"
      ],
      "execution_count": null,
      "outputs": []
    },
    {
      "cell_type": "code",
      "metadata": {
        "id": "8at7f9CH1Ce7"
      },
      "source": [
        "!python smooth_transfer.py \\\r\n",
        "        mixed4a_3x3_pre_relu 25 \\\r\n",
        "        --n_training 500 \\\r\n",
        "        --output_image_size 1920 \\"
      ],
      "execution_count": null,
      "outputs": []
    },
    {
      "cell_type": "code",
      "metadata": {
        "id": "Q-oIVGqs1Iif"
      },
      "source": [
        "!python sound/collect_beats.py"
      ],
      "execution_count": null,
      "outputs": []
    },
    {
      "cell_type": "code",
      "metadata": {
        "id": "RDV_jP6A2Zvq"
      },
      "source": [
        "!python matching_beats.py"
      ],
      "execution_count": null,
      "outputs": []
    }
  ]
}