{
 "cells": [
  {
   "cell_type": "code",
   "execution_count": 1,
   "metadata": {
    "collapsed": false,
    "deletable": true,
    "editable": true
   },
   "outputs": [
    {
     "name": "stderr",
     "output_type": "stream",
     "text": [
      "/home/hoppeta/.pyenv/versions/3.6.0/lib/python3.6/importlib/_bootstrap.py:205: RuntimeWarning: numpy.dtype size changed, may indicate binary incompatibility. Expected 96, got 88\n",
      "  return f(*args, **kwds)\n",
      "/home/hoppeta/.pyenv/versions/3.6.0/lib/python3.6/importlib/_bootstrap.py:205: RuntimeWarning: numpy.dtype size changed, may indicate binary incompatibility. Expected 96, got 88\n",
      "  return f(*args, **kwds)\n"
     ]
    }
   ],
   "source": [
    "from VAE_model import build_model, pack, unpack\n",
    "import glob\n",
    "import numpy as np\n",
    "from tqdm import tqdm\n",
    "from lucid.misc.io import load\n",
    "from lucid.optvis.param import cppn\n",
    "from lucid.optvis import objectives\n",
    "from lucid.optvis import render\n",
    "from lucid.misc.tfutil import create_session\n",
    "import tensorflow as tf\n",
    "from lucid.modelzoo import vision_models\n",
    "import pylab as plt"
   ]
  },
  {
   "cell_type": "code",
   "execution_count": 2,
   "metadata": {
    "collapsed": true,
    "deletable": true,
    "editable": true
   },
   "outputs": [],
   "source": [
    "cutoff = 128**10\n",
    "image_size = 400\n",
    "size_n = 200\n",
    "F_MODELS = glob.glob(\"results/VAE_base_models/*.npy\")[:cutoff]"
   ]
  },
  {
   "cell_type": "code",
   "execution_count": null,
   "metadata": {
    "collapsed": false,
    "deletable": true,
    "editable": true
   },
   "outputs": [
    {
     "name": "stderr",
     "output_type": "stream",
     "text": [
      " 10%|▉         | 101/1024 [00:01<00:09, 98.24it/s]"
     ]
    }
   ],
   "source": [
    "# Load the save model params\n",
    "params0 = [load(f_model) for f_model in tqdm(F_MODELS)]\n",
    "shapes = list(map(lambda x:x.shape, params0[0]))\n",
    "X = np.array([unpack(p) for p in params0])"
   ]
  },
  {
   "cell_type": "code",
   "execution_count": 4,
   "metadata": {
    "collapsed": true,
    "deletable": true,
    "editable": true
   },
   "outputs": [],
   "source": [
    "class render_model():\n",
    "    def __init__(self):\n",
    "\n",
    "        print (\"Loading Inception model\")\n",
    "        self.model = vision_models.InceptionV1()\n",
    "        self.model.load_graphdef()\n",
    "\n",
    "        sess = create_session()\n",
    "\n",
    "        self.t_size = tf.placeholder_with_default(size_n, [])\n",
    "        obj = objectives.channel(\"mixed4a\", 0)\n",
    "        self.T = render.make_vis_T(\n",
    "            self.model, obj,\n",
    "            param_f=lambda: cppn(self.t_size),\n",
    "        )\n",
    "\n",
    "        tf.global_variables_initializer().run()\n",
    "        self.train_vars = sess.graph.get_collection(\n",
    "            tf.GraphKeys.TRAINABLE_VARIABLES)\n",
    "\n",
    "    def __call__(self, params):\n",
    "\n",
    "        feed_dict = dict(zip(self.train_vars, params))\n",
    "        feed_dict[self.t_size] = image_size\n",
    "        return self.T(\"input\").eval(feed_dict)[0]\n"
   ]
  },
  {
   "cell_type": "code",
   "execution_count": 5,
   "metadata": {
    "collapsed": false,
    "deletable": true,
    "editable": true
   },
   "outputs": [
    {
     "name": "stdout",
     "output_type": "stream",
     "text": [
      "WARNING:tensorflow:Output \"decoder\" missing from loss dictionary. We assume this was done on purpose, and we will not be expecting any data to be passed to \"decoder\" during training.\n"
     ]
    },
    {
     "name": "stderr",
     "output_type": "stream",
     "text": [
      "WARNING:tensorflow:Output \"decoder\" missing from loss dictionary. We assume this was done on purpose, and we will not be expecting any data to be passed to \"decoder\" during training.\n"
     ]
    },
    {
     "name": "stdout",
     "output_type": "stream",
     "text": [
      "[[-0.1148695   0.01965168]\n",
      " [-0.075947   -0.0616593 ]\n",
      " [ 0.03413891 -0.0824635 ]\n",
      " ...\n",
      " [ 0.0253809  -0.03752047]\n",
      " [ 0.05214637 -0.0361219 ]\n",
      " [ 0.0103711  -0.04150574]]\n"
     ]
    }
   ],
   "source": [
    "latent_n = 2\n",
    "intermediate_n = 512\n",
    "input_n = 8451\n",
    "f_h5 = 'results/VAE_weights.h5'\n",
    "\n",
    "VAE, encoder, decoder = build_model(\n",
    "    input_n, intermediate_n, latent_n)\n",
    "VAE = VAE.load_weights(f_h5)\n",
    "\n",
    "z_mean, z_std_log, z = encoder.predict(X, batch_size=128)\n",
    "xp = decoder.predict(z)\n",
    "print (z_mean)"
   ]
  },
  {
   "cell_type": "code",
   "execution_count": 6,
   "metadata": {
    "collapsed": false,
    "deletable": true,
    "editable": true
   },
   "outputs": [],
   "source": [
    "params1 = [pack(x, shapes) for x in decoder.predict(z)]"
   ]
  },
  {
   "cell_type": "code",
   "execution_count": 7,
   "metadata": {
    "collapsed": false,
    "deletable": true,
    "editable": true
   },
   "outputs": [
    {
     "name": "stdout",
     "output_type": "stream",
     "text": [
      "Loading Inception model\n"
     ]
    }
   ],
   "source": [
    "R = render_model()"
   ]
  },
  {
   "cell_type": "code",
   "execution_count": 10,
   "metadata": {
    "collapsed": false,
    "deletable": true,
    "editable": true
   },
   "outputs": [
    {
     "data": {
      "text/plain": [
       "array([-1.0501842 ,  0.43053436, -0.9149284 , ...,  0.06743582,\n",
       "       -0.1828395 , -0.10006539], dtype=float32)"
      ]
     },
     "execution_count": 10,
     "metadata": {},
     "output_type": "execute_result"
    }
   ],
   "source": [
    "params0[3]"
   ]
  },
  {
   "cell_type": "code",
   "execution_count": null,
   "metadata": {
    "collapsed": true,
    "deletable": true,
    "editable": true
   },
   "outputs": [],
   "source": []
  }
 ],
 "metadata": {
  "kernelspec": {
   "display_name": "Python 3",
   "language": "python",
   "name": "python3"
  },
  "language_info": {
   "codemirror_mode": {
    "name": "ipython",
    "version": 3
   },
   "file_extension": ".py",
   "mimetype": "text/x-python",
   "name": "python",
   "nbconvert_exporter": "python",
   "pygments_lexer": "ipython3",
   "version": "3.6.0"
  }
 },
 "nbformat": 4,
 "nbformat_minor": 2
}
